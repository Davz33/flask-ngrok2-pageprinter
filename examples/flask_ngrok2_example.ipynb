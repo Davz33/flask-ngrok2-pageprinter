{
  "cells": [
    {
      "cell_type": "code",
      "execution_count": 1,
      "metadata": {
        "colab": {},
        "colab_type": "code",
        "id": "1cljkrUaPeyg"
      },
      "outputs": [
        {
          "name": "stdout",
          "output_type": "stream",
          "text": [
            "Defaulting to user installation because normal site-packages is not writeable\n",
            "Requirement already satisfied: flask-ngrok2 in /home/rashad/.local/lib/python3.10/site-packages (0.1.0)\n",
            "Requirement already satisfied: Flask>=0.8 in /home/rashad/.local/lib/python3.10/site-packages (from flask-ngrok2) (2.2.2)\n",
            "Requirement already satisfied: requests in /usr/lib/python3/dist-packages (from flask-ngrok2) (2.25.1)\n",
            "Requirement already satisfied: click>=8.0 in /usr/lib/python3/dist-packages (from Flask>=0.8->flask-ngrok2) (8.0.3)\n",
            "Requirement already satisfied: itsdangerous>=2.0 in /home/rashad/.local/lib/python3.10/site-packages (from Flask>=0.8->flask-ngrok2) (2.1.2)\n",
            "Requirement already satisfied: Jinja2>=3.0 in /home/rashad/.local/lib/python3.10/site-packages (from Flask>=0.8->flask-ngrok2) (3.1.2)\n",
            "Requirement already satisfied: Werkzeug>=2.2.2 in /home/rashad/.local/lib/python3.10/site-packages (from Flask>=0.8->flask-ngrok2) (2.2.2)\n",
            "Requirement already satisfied: MarkupSafe>=2.0 in /home/rashad/.local/lib/python3.10/site-packages (from Jinja2>=3.0->Flask>=0.8->flask-ngrok2) (2.1.1)\n",
            "\u001b[33mWARNING: You are using pip version 21.2.4; however, version 22.2.2 is available.\n",
            "You should consider upgrading via the '/usr/bin/python3 -m pip install --upgrade pip' command.\u001b[0m\n"
          ]
        }
      ],
      "source": [
        "!pip install flask-ngrok2"
      ]
    },
    {
      "cell_type": "code",
      "execution_count": 1,
      "metadata": {
        "colab": {},
        "colab_type": "code",
        "id": "H39hVXhiPtBo"
      },
      "outputs": [
        {
          "name": "stdout",
          "output_type": "stream",
          "text": [
            " * Serving Flask app '__main__'\n",
            " * Debug mode: off\n"
          ]
        },
        {
          "name": "stderr",
          "output_type": "stream",
          "text": [
            "WARNING: This is a development server. Do not use it in a production deployment. Use a production WSGI server instead.\n",
            " * Running on http://127.0.0.1:5000\n",
            "Press CTRL+C to quit\n"
          ]
        },
        {
          "name": "stdout",
          "output_type": "stream",
          "text": [
            " * Running on http://3fe8-41-37-14-249.ngrok.io\n",
            " * Traffic stats available on http://127.0.0.1:4040\n"
          ]
        },
        {
          "name": "stderr",
          "output_type": "stream",
          "text": [
            "127.0.0.1 - - [24/Aug/2022 01:54:55] \"GET / HTTP/1.1\" 200 -\n",
            "127.0.0.1 - - [24/Aug/2022 01:54:56] \"GET /favicon.ico HTTP/1.1\" 404 -\n",
            "127.0.0.1 - - [24/Aug/2022 01:54:56] \"GET / HTTP/1.1\" 200 -\n"
          ]
        }
      ],
      "source": [
        "# flask_ngrok_example.py\n",
        "from flask import Flask\n",
        "from flask_ngrok2 import run_with_ngrok\n",
        "\n",
        "app = Flask(__name__)\n",
        "run_with_ngrok(app)  # Start ngrok when app is run\n",
        "\n",
        "@app.route(\"/\")\n",
        "def hello():\n",
        "    return \"Hello World!\"\n",
        "\n",
        "if __name__ == '__main__':\n",
        "    app.run()  # If address is in use, may need to terminate other sessions:\n",
        "               # Runtime > Manage Sessions > Terminate Other Sessions"
      ]
    }
  ],
  "metadata": {
    "colab": {
      "collapsed_sections": [],
      "name": "flask-ngrok-example.ipynb",
      "provenance": [],
      "version": "0.3.2"
    },
    "kernelspec": {
      "display_name": "Python 3.10.4 64-bit",
      "language": "python",
      "name": "python3"
    },
    "language_info": {
      "codemirror_mode": {
        "name": "ipython",
        "version": 3
      },
      "file_extension": ".py",
      "mimetype": "text/x-python",
      "name": "python",
      "nbconvert_exporter": "python",
      "pygments_lexer": "ipython3",
      "version": "3.10.4"
    },
    "vscode": {
      "interpreter": {
        "hash": "916dbcbb3f70747c44a77c7bcd40155683ae19c65e1c03b4aa3499c5328201f1"
      }
    }
  },
  "nbformat": 4,
  "nbformat_minor": 0
}
